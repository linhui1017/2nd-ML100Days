{
 "cells": [
  {
   "cell_type": "code",
   "execution_count": 124,
   "metadata": {},
   "outputs": [],
   "source": [
    "import requests\n",
    "from bs4 import BeautifulSoup\n",
    "import math\n",
    "import time"
   ]
  },
  {
   "cell_type": "code",
   "execution_count": 125,
   "metadata": {},
   "outputs": [],
   "source": [
    "import urllib.parse\n",
    "def percentEncode(str):\n",
    "    res = urllib.parse.quote(str, '')\n",
    "    res = res.replace('+', '%20')\n",
    "    res = res.replace('*', '%2A')\n",
    "    res = res.replace('%7E', '~')\n",
    "    return res"
   ]
  },
  {
   "cell_type": "code",
   "execution_count": 126,
   "metadata": {},
   "outputs": [
    {
     "name": "stdout",
     "output_type": "stream",
     "text": [
      "請輸入\n",
      "商品:pxi-6542\n",
      "最低價格:28000\n",
      "最高價格:29000\n"
     ]
    }
   ],
   "source": [
    "print(\"請輸入\")\n",
    "product = input(\"商品:\")\n",
    "price_lower = float(input(\"最低價格:\"))\n",
    "price_upper = float(input(\"最高價格:\"))\n",
    "product = percentEncode(product)"
   ]
  },
  {
   "cell_type": "code",
   "execution_count": 127,
   "metadata": {},
   "outputs": [],
   "source": [
    "def download_pages(url):\n",
    "    try:\n",
    "        print(\"link to:\", url)\n",
    "        res = requests.get(url)\n",
    "\n",
    "        page = BeautifulSoup(res.text, \"lxml\")\n",
    "\n",
    "        return page\n",
    "    except Exception as e:\n",
    "        return None"
   ]
  },
  {
   "cell_type": "code",
   "execution_count": 128,
   "metadata": {},
   "outputs": [
    {
     "name": "stdout",
     "output_type": "stream",
     "text": [
      "link to: https://www.ebay.com/sch/i.html?_nkw=pxi-6542&_sacat=0\n"
     ]
    }
   ],
   "source": [
    "url_ebay = 'https://www.ebay.com/sch/i.html?_nkw={0}&_sacat=0'.format(product)\n",
    "\n",
    "url_ebay_page_format = url_ebay + \"&_pgn={0}\"\n",
    "\n",
    "soup =  download_pages(url_ebay)\n",
    "\n",
    "#print(soup.prettify())\n"
   ]
  },
  {
   "cell_type": "code",
   "execution_count": 129,
   "metadata": {},
   "outputs": [
    {
     "name": "stdout",
     "output_type": "stream",
     "text": [
      "products: 12.0\n",
      "total pages: 1\n"
     ]
    }
   ],
   "source": [
    "pages_size = 50\n",
    "records = 0\n",
    "pages = 0\n",
    "count_tags = soup.select('.srp-controls__count')\n",
    "if(len(count_tags) > 0):\n",
    "    records = count_tags[0].select('.BOLD')[0].get_text()\n",
    "    records = \"\".join(filter(str.isdigit, records))\n",
    "    records = float(records)\n",
    "    pages = math.ceil(records / pages_size)\n",
    "\n",
    "    print(\"products:\", records)\n",
    "    print(\"total pages:\", pages)"
   ]
  },
  {
   "cell_type": "code",
   "execution_count": 130,
   "metadata": {},
   "outputs": [
    {
     "name": "stdout",
     "output_type": "stream",
     "text": [
      "link to: https://www.ebay.com/sch/i.html?_nkw=pxi-6542&_sacat=0&_pgn=1\n",
      "-------------------------------------Product-------------------------------------\n",
      "price: 28547.0\n",
      "title: National Instruments NI PXI-6542 100 MHz Digital Waveform Generator/Analyzer\n",
      "link: https://www.ebay.com/itm/National-Instruments-NI-PXI-6542-100-MHz-Digital-Waveform-Generator-Analyzer/323898385093?hash=item4b69d922c5:g:rCsAAOSwvRpavegD\n",
      "-------------------------------------Product-------------------------------------\n",
      "price: 28592.0\n",
      "title: NI PXI-6542 Digital Waveform Generator/Analyzer\n",
      "link: https://www.ebay.com/itm/NI-PXI-6542-Digital-Waveform-Generator-Analyzer/153676662491?hash=item23c7d7c6db:g:SAAAAOSwDFBaDh98\n",
      "-------------------------------------Product-------------------------------------\n",
      "price: 28547.0\n",
      "title: NI PXI-6542 Digital Waveform Generator/Analyzer\n",
      "link: https://www.ebay.com/itm/NI-PXI-6542-Digital-Waveform-Generator-Analyzer/142584445201?hash=item2132b1f911:g:SAAAAOSwDFBaDh98\n",
      "-------------------------------------Product-------------------------------------\n",
      "price: 28654.0\n",
      "title: Ni PXI-6542 Digitale Waveform Generatore/Analizzatore\n",
      "link: https://www.ebay.com/itm/Ni-PXI-6542-Digitale-Waveform-Generatore-Analizzatore/143406931559?hash=item2163b81e67:g:SAAAAOSwDFBaDh98\n",
      "-------------------------------------Product-------------------------------------\n",
      "price: 28654.0\n",
      "title: Ni PXI-6542 Digital Wellenform Generator/Analysator\n",
      "link: https://www.ebay.com/itm/Ni-PXI-6542-Digital-Wellenform-Generator-Analysator/153678623542?hash=item23c7f5b336:g:SAAAAOSwDFBaDh98\n",
      "-------------------------------------Product-------------------------------------\n",
      "price: 28654.0\n",
      "title: Ni PXI-6542 Digital Forma de Onda Generador/Analizador\n",
      "link: https://www.ebay.com/itm/Ni-PXI-6542-Digital-Forma-de-Onda-Generador-Analizador/143406931098?hash=item2163b81c9a:g:SAAAAOSwDFBaDh98\n",
      "-------------------------------------Product-------------------------------------\n",
      "price: 28637.0\n",
      "title: NI PXI-6542 Digital Waveform Generator/Analyzer\n",
      "link: https://www.ebay.com/itm/NI-PXI-6542-Digital-Waveform-Generator-Analyzer/143405665693?hash=item2163a4cd9d:g:SAAAAOSwDFBaDh98\n",
      "-------------------------------------Product-------------------------------------\n",
      "price: 28654.0\n",
      "title: Ni PXI-6542 Numérique Forme D'Onde Générateur/Analyseur\n",
      "link: https://www.ebay.com/itm/Ni-PXI-6542-Numerique-Forme-DOnde-Generateur-Analyseur/143406931326?hash=item2163b81d7e:g:SAAAAOSwDFBaDh98\n",
      "/##################################   THE END   ################################## /\n"
     ]
    }
   ],
   "source": [
    "loops = pages +1\n",
    "for i in range(1,loops):\n",
    "    \n",
    "    url_ebay_page =  url_ebay_page_format.format(i)    \n",
    "\n",
    "    soup_page = download_pages(url_ebay_page)\n",
    "    \n",
    "    if(None == soup_page):\n",
    "        time.sleep(5)\n",
    "        print('nothing')\n",
    "        continue\n",
    "\n",
    "    items = soup_page.select('.s-item__wrapper')\n",
    "    \n",
    "    for item in items:\n",
    "        price_str = item.select('.s-item__price')[0].get_text()\n",
    "        price_str = \"\".join(filter(str.isdigit, price_str))\n",
    "        price = float(price_str)\n",
    "\n",
    "\n",
    "        if price >= price_lower and price <= price_upper :\n",
    "            title = item.select('.s-item__title')[0].get_text()\n",
    "            link = item.select('.s-item__link')[0].get('href')\n",
    "            \n",
    "            print(\"-------------------------------------Product-------------------------------------\")\n",
    "            print(\"price:\", str(price))\n",
    "            print(\"title:\",  title)\n",
    "            print(\"link:\",  link)\n",
    "   \n",
    "    print(\"/##################################   THE END   ################################## /\")\n",
    "    time.sleep(5)\n"
   ]
  },
  {
   "cell_type": "code",
   "execution_count": null,
   "metadata": {},
   "outputs": [],
   "source": []
  }
 ],
 "metadata": {
  "kernelspec": {
   "display_name": "Python 3",
   "language": "python",
   "name": "python3"
  },
  "language_info": {
   "codemirror_mode": {
    "name": "ipython",
    "version": 3
   },
   "file_extension": ".py",
   "mimetype": "text/x-python",
   "name": "python",
   "nbconvert_exporter": "python",
   "pygments_lexer": "ipython3",
   "version": "3.7.3"
  }
 },
 "nbformat": 4,
 "nbformat_minor": 2
}
